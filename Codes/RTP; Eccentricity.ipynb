{
  "nbformat": 4,
  "nbformat_minor": 0,
  "metadata": {
    "colab": {
      "provenance": [],
      "authorship_tag": "ABX9TyNV2ZSZq5yrcp0bWs/X+JyO",
      "include_colab_link": true
    },
    "kernelspec": {
      "name": "python3",
      "display_name": "Python 3"
    },
    "language_info": {
      "name": "python"
    }
  },
  "cells": [
    {
      "cell_type": "markdown",
      "metadata": {
        "id": "view-in-github",
        "colab_type": "text"
      },
      "source": [
        "<a href=\"https://colab.research.google.com/github/dutta-arka/Resonance-Capture-of-Planets/blob/main/Codes/RTP%3B%20Eccentricity.ipynb\" target=\"_parent\"><img src=\"https://colab.research.google.com/assets/colab-badge.svg\" alt=\"Open In Colab\"/></a>"
      ]
    },
    {
      "cell_type": "code",
      "execution_count": 1,
      "metadata": {
        "id": "9oRvfdMZA1eE"
      },
      "outputs": [],
      "source": [
        "# Import all the required packages\n",
        "import pandas as pd\n",
        "import matplotlib.pyplot as plt\n",
        "import numpy as np\n",
        "import math"
      ]
    },
    {
      "cell_type": "code",
      "source": [
        "# Load the CSV file into a pandas DataFrame\n",
        "df = pd.read_csv(\"E7.csv\")\n",
        "\n",
        "df.info()"
      ],
      "metadata": {
        "colab": {
          "base_uri": "https://localhost:8080/"
        },
        "id": "Pr4W6ILVA2uC",
        "outputId": "5f05d903-f43f-47c1-fa66-7d08695446ab"
      },
      "execution_count": 2,
      "outputs": [
        {
          "output_type": "stream",
          "name": "stdout",
          "text": [
            "<class 'pandas.core.frame.DataFrame'>\n",
            "RangeIndex: 1102 entries, 0 to 1101\n",
            "Data columns (total 3 columns):\n",
            " #   Column                     Non-Null Count  Dtype  \n",
            "---  ------                     --------------  -----  \n",
            " 0   2MASS J19383260+4603591 b  1102 non-null   object \n",
            " 1   2MASS J19383260+4603591    1102 non-null   object \n",
            " 2   0.33                       425 non-null    float64\n",
            "dtypes: float64(1), object(2)\n",
            "memory usage: 26.0+ KB\n"
          ]
        }
      ]
    },
    {
      "cell_type": "code",
      "source": [
        "# Group the DataFrame by the names in column 2\n",
        "grouped = df.groupby(df.iloc[:, 1])\n",
        "\n",
        "# Initialize an empty list to store dictionaries\n",
        "output = []\n",
        "\n",
        "# Initialize a counter\n",
        "counter = 1\n",
        "\n",
        "# Iterate over each group\n",
        "for name, group in grouped:\n",
        "    # Create a dictionary for the current group\n",
        "    d = {}\n",
        "    for index, row in group.iterrows():\n",
        "        # Extract the key from column 1 and value from column 3\n",
        "        key = row.iloc[0][-1]  # Extract the last character from the string in column 1\n",
        "        value = row.iloc[2]\n",
        "        # Check if the value is not NaN\n",
        "        if not np.isnan(value):\n",
        "            d[key] = value\n",
        "    # Append the dictionary to the output list\n",
        "    if d:\n",
        "      output.append({'No.': counter, 'Host Names': name, 'eccentricity': d})\n",
        "      counter += 1\n",
        "\n",
        "# Convert the list of dictionaries to a DataFrame\n",
        "odf = pd.DataFrame(output)\n",
        "\n",
        "# Print the output as a table\n",
        "print(odf.to_string(index=False))"
      ],
      "metadata": {
        "colab": {
          "base_uri": "https://localhost:8080/"
        },
        "id": "jrp1Qyh4A8jb",
        "outputId": "82d4ac76-cab0-4485-fd3a-c184fb66f5a0"
      },
      "execution_count": 3,
      "outputs": [
        {
          "output_type": "stream",
          "name": "stdout",
          "text": [
            " No.              Host Names                                                             eccentricity\n",
            "   1 2MASS J19383260+4603591                                                    {'c': 0.29, 'd': 0.0}\n",
            "   2                  47 UMa                                      {'b': 0.032, 'c': 0.098, 'd': 0.16}\n",
            "   3                  55 Cnc                   {'b': 0.0, 'c': 0.03, 'd': 0.13, 'e': 0.05, 'f': 0.08}\n",
            "   4                  61 Vir                                        {'b': 0.12, 'c': 0.14, 'd': 0.35}\n",
            "   5                  AU Mic                                               {'b': 0.186, 'd': 0.00305}\n",
            "   6                 CoRoT-7                                                     {'b': 0.0, 'c': 0.0}\n",
            "   7                  DMPP-1                           {'b': 0.083, 'c': 0.057, 'd': 0.07, 'e': 0.07}\n",
            "   8          EPIC 249893012                                        {'b': 0.06, 'c': 0.07, 'd': 0.15}\n",
            "   9                 GJ 1061                                        {'b': 0.31, 'c': 0.29, 'd': 0.53}\n",
            "  10                  GJ 163                                     {'b': 0.073, 'c': 0.099, 'd': 0.373}\n",
            "  11                  GJ 180                                        {'b': 0.07, 'c': 0.09, 'd': 0.14}\n",
            "  12                 GJ 3138                                        {'b': 0.19, 'c': 0.11, 'd': 0.32}\n",
            "  13                 GJ 3293                             {'b': 0.06, 'c': 0.11, 'd': 0.12, 'e': 0.21}\n",
            "  14                  GJ 367                                        {'b': 0.06, 'c': 0.09, 'd': 0.14}\n",
            "  15                  GJ 433                                        {'b': 0.04, 'c': 0.12, 'd': 0.07}\n",
            "  16                  GJ 581                                           {'b': 0.0, 'c': 0.0, 'e': 0.0}\n",
            "  17                GJ 667 C                   {'b': 0.2, 'c': 0.02, 'e': 0.02, 'f': 0.03, 'g': 0.08}\n",
            "  18                GJ 676 A                         {'b': 0.319, 'c': 0.295, 'd': 0.192, 'e': 0.152}\n",
            "  19                  GJ 876                      {'b': 0.0324, 'c': 0.25591, 'd': 0.207, 'e': 0.055}\n",
            "  20                 GJ 9827                                      {'b': 0.063, 'c': 0.094, 'd': 0.13}\n",
            "  21                HD 10180 {'c': 0.073, 'd': 0.131, 'e': 0.051, 'f': 0.119, 'g': 0.263, 'h': 0.095}\n",
            "  22               HD 108236             {'b': 0.045, 'c': 0.034, 'd': 0.055, 'e': 0.058, 'f': 0.051}\n",
            "  23                HD 11506                                     {'b': 0.391, 'c': 0.233, 'd': 0.061}\n",
            "  24               HD 125612                                     {'b': 0.446, 'c': 0.149, 'd': 0.115}\n",
            "  25             HD 133131 A                                                   {'b': 0.33, 'c': 0.49}\n",
            "  26             HD 133131 B                                                              {'b': 0.61}\n",
            "  27               HD 136352                                           {'b': 0.0, 'c': 0.0, 'd': 0.0}\n",
            "  28               HD 141399                           {'b': 0.04, 'c': 0.048, 'd': 0.074, 'e': 0.26}\n",
            "  29                  HD 142                                      {'d': 0.13, 'b': 0.158, 'c': 0.277}\n",
            "  30               HD 153557                                     {'b': 0.065, 'c': 0.511, 'd': 0.152}\n",
            "  31               HD 164922                            {'b': 0.08, 'c': 0.12, 'd': 0.12, 'e': 0.086}\n",
            "  32               HD 181433                                         {'b': 0.4, 'c': 0.28, 'd': 0.48}\n",
            "  33               HD 184010                                           {'b': 0.0, 'c': 0.0, 'd': 0.0}\n",
            "  34               HD 191939              {'b': 0.031, 'c': 0.034, 'd': 0.031, 'e': 0.031, 'g': 0.03}\n",
            "  35               HD 204313                                       {'b': 0.1, 'c': 0.059, 'e': 0.253}\n",
            "  36                HD 20781                              {'b': 0.1, 'c': 0.09, 'd': 0.11, 'e': 0.06}\n",
            "  37                HD 20782                                                              {'b': 0.95}\n",
            "  38                HD 20794                                {'b': 0.0, 'c': 0.0, 'd': 0.0, 'e': 0.29}\n",
            "  39               HD 215152                                 {'b': 0.0, 'c': 0.0, 'd': 0.0, 'e': 0.0}\n",
            "  40               HD 219134      {'b': 0.0, 'c': 0.062, 'd': 0.138, 'f': 0.148, 'g': 0.0, 'h': 0.06}\n",
            "  41                HD 23472                {'b': 0.072, 'c': 0.063, 'd': 0.07, 'e': 0.07, 'f': 0.07}\n",
            "  42                HD 27894                                     {'b': 0.047, 'c': 0.015, 'd': 0.343}\n",
            "  43                HD 28109                                  {'b': 0.3307, 'c': 0.1203, 'd': 0.0864}\n",
            "  44                HD 31527                                         {'b': 0.1, 'c': 0.04, 'd': 0.24}\n",
            "  45                 HD 3167                              {'b': 0.0, 'c': 0.06, 'd': 0.12, 'e': 0.15}\n",
            "  46                HD 33142                                     {'b': 0.049, 'c': 0.081, 'd': 0.191}\n",
            "  47                HD 34445   {'b': 0.27, 'c': 0.036, 'd': 0.027, 'e': 0.09, 'f': 0.031, 'g': 0.032}\n",
            "  48                HD 37124                                      {'b': 0.054, 'c': 0.125, 'd': 0.16}\n",
            "  49                HD 39091                                      {'b': 0.642, 'c': 0.077, 'd': 0.22}\n",
            "  50                HD 39194                                     {'b': 0.207, 'c': 0.154, 'd': 0.333}\n",
            "  51                HD 40307                   {'b': 0.2, 'c': 0.06, 'd': 0.07, 'f': 0.02, 'g': 0.29}\n",
            "  52                HD 63433                                        {'b': 0.24, 'c': 0.21, 'd': 0.16}\n",
            "  53                HD 69830                                         {'b': 0.1, 'c': 0.13, 'd': 0.07}\n",
            "  54                 HD 7924                                       {'b': 0.06, 'c': 0.098, 'd': 0.21}\n",
            "  55                HD 93385                                        {'b': 0.295, 'c': 0.2, 'd': 0.09}\n",
            "  56                HD 96700                                      {'b': 0.138, 'c': 0.293, 'd': 0.27}\n",
            "  57               HIP 14810                                  {'b': 0.14399, 'c': 0.1566, 'd': 0.185}\n",
            "  58               HIP 57274                                        {'b': 0.19, 'c': 0.05, 'd': 0.27}\n",
            "  59                  HR 858                                         {'b': 0.3, 'c': 0.19, 'd': 0.28}\n",
            "  60                 HR 8799                                                              {'e': 0.15}\n",
            "  61                  K2-136                                      {'b': 0.14, 'c': 0.047, 'd': 0.071}\n",
            "  62                  K2-138 {'b': 0.048, 'c': 0.045, 'd': 0.043, 'e': 0.077, 'f': 0.062, 'g': 0.059}\n",
            "  63                   K2-19                                                    {'b': 0.2, 'c': 0.21}\n",
            "  64                  K2-233                                   {'b': 0.079, 'c': 0.2002, 'd': 0.1999}\n",
            "  65                  K2-266                                     {'c': 0.042, 'd': 0.047, 'e': 0.043}\n",
            "  66                  K2-285                                 {'b': 0.0, 'c': 0.0, 'd': 0.0, 'e': 0.0}\n",
            "  67                    K2-3                                     {'b': 0.107, 'c': 0.048, 'd': 0.091}\n",
            "  68                   K2-32                           {'b': 0.03, 'c': 0.049, 'd': 0.05, 'e': 0.043}\n",
            "  69                   K2-72                             {'b': 0.11, 'c': 0.11, 'd': 0.11, 'e': 0.11}\n",
            "  70                 KOI-142                                  {'b': 0.05561, 'c': 0.05724, 'd': 0.41}\n",
            "  71                  KOI-94                           {'b': 0.25, 'c': 0.43, 'd': 0.022, 'e': 0.019}\n",
            "  72               Kepler-10                                         {'b': 0.0, 'c': 0.13, 'd': 0.26}\n",
            "  73              Kepler-102                 {'b': 0.1, 'c': 0.094, 'd': 0.092, 'e': 0.089, 'f': 0.1}\n",
            "  74              Kepler-107                               {'b': 0.1, 'c': 0.08, 'd': 0.11, 'e': 0.1}\n",
            "  75               Kepler-11  {'b': 0.045, 'c': 0.026, 'd': 0.004, 'e': 0.012, 'f': 0.013, 'g': 0.15}\n",
            "  76              Kepler-129                                                              {'d': 0.15}\n",
            "  77              Kepler-130                                                               {'c': 0.0}\n",
            "  78              Kepler-138                           {'b': 0.02, 'c': 0.017, 'd': 0.01, 'e': 0.112}\n",
            "  79              Kepler-167                                {'b': 0.0, 'c': 0.0, 'd': 0.0, 'e': 0.29}\n",
            "  80               Kepler-18                                           {'b': 0.0, 'c': 0.0, 'd': 0.0}\n",
            "  81              Kepler-186                                                              {'f': 0.04}\n",
            "  82               Kepler-19                                        {'b': 0.41, 'c': 0.21, 'd': 0.05}\n",
            "  83               Kepler-20  {'b': 0.083, 'c': 0.076, 'd': 0.082, 'e': 0.092, 'f': 0.094, 'g': 0.15}\n",
            "  84              Kepler-223                          {'b': 0.078, 'c': 0.15, 'd': 0.037, 'e': 0.051}\n",
            "  85               Kepler-25                                    {'b': 0.0029, 'c': 0.0061, 'd': 0.13}\n",
            "  86              Kepler-296                  {'b': 0.33, 'c': 0.33, 'd': 0.33, 'e': 0.33, 'f': 0.33}\n",
            "  87               Kepler-30                                    {'b': 0.042, 'c': 0.0111, 'd': 0.022}\n",
            "  88               Kepler-33                       {'b': 0.0, 'c': 0.0, 'd': 0.0, 'e': 0.0, 'f': 0.0}\n",
            "  89               Kepler-37                                       {'b': 0.098, 'c': 0.099, 'd': 0.1}\n",
            "  90              Kepler-411                         {'b': 0.146, 'c': 0.108, 'd': 0.128, 'e': 0.016}\n",
            "  91              Kepler-444                   {'b': 0.16, 'c': 0.31, 'd': 0.18, 'e': 0.1, 'f': 0.29}\n",
            "  92              Kepler-445                                           {'b': 0.0, 'c': 0.0, 'd': 0.0}\n",
            "  93              Kepler-446                                           {'b': 0.0, 'c': 0.0, 'd': 0.0}\n",
            "  94              Kepler-450                                        {'b': 0.02, 'c': 0.02, 'd': 0.14}\n",
            "  95              Kepler-454                                     {'b': 0.32, 'c': 0.0053, 'd': 0.089}\n",
            "  96               Kepler-46                                                 {'b': 0.01, 'c': 0.0146}\n",
            "  97               Kepler-47                                     {'b': 0.021, 'c': 0.044, 'd': 0.024}\n",
            "  98               Kepler-51                                      {'b': 0.04, 'c': 0.014, 'd': 0.008}\n",
            "  99               Kepler-56                                                               {'d': 0.2}\n",
            " 100               Kepler-65                                                             {'e': 0.283}\n",
            " 101               Kepler-68                           {'b': 0.09, 'c': 0.099, 'd': 0.102, 'e': 0.33}\n",
            " 102               Kepler-79                          {'b': 0.015, 'c': 0.03, 'd': 0.025, 'e': 0.012}\n",
            " 103               Kepler-82                                   {'b': 0.0033, 'c': 0.007, 'f': 0.0014}\n",
            " 104                Kepler-9                                              {'b': 0.0609, 'c': 0.06691}\n",
            " 105               Kepler-92                                                              {'d': 0.07}\n",
            " 106                 L 98-59                             {'b': 0.103, 'c': 0.0, 'd': 0.0, 'e': 0.128}\n",
            " 107               LP 791-18                                                {'c': 8e-05, 'd': 0.0015}\n",
            " 108            PSR B1257+12                                                  {'b': 0.0, 'c': 0.0186}\n",
            " 109                TOI-1136 {'b': 0.031, 'c': 0.117, 'd': 0.016, 'e': 0.057, 'f': 0.012, 'g': 0.036}\n",
            " 110                 TOI-125                                     {'b': 0.194, 'c': 0.066, 'd': 0.168}\n",
            " 111                TOI-1260                                           {'b': 0.0, 'c': 0.0, 'd': 0.0}\n",
            " 112                TOI-1749                                      {'b': 0.14, 'c': 0.019, 'd': 0.062}\n",
            " 113                 TOI-270                                     {'b': 0.034, 'c': 0.027, 'd': 0.032}\n",
            " 114                TOI-4010                             {'b': 0.03, 'c': 0.03, 'd': 0.07, 'e': 0.26}\n",
            " 115                 TOI-431                                           {'b': 0.0, 'c': 0.0, 'd': 0.0}\n",
            " 116                 TOI-451                                           {'b': 0.0, 'c': 0.0, 'd': 0.0}\n",
            " 117                 TOI-500                         {'b': 0.063, 'c': 0.072, 'd': 0.016, 'e': 0.073}\n",
            " 118                 TOI-561                            {'b': 0.0, 'c': 0.03, 'd': 0.122, 'e': 0.079}\n",
            " 119                 TOI-700                         {'b': 0.075, 'c': 0.068, 'd': 0.042, 'e': 0.059}\n",
            " 120                 TOI-712                                      {'b': 0.54, 'c': 0.089, 'd': 0.073}\n",
            " 121               V1298 Tau                             {'b': 0.29, 'c': 0.43, 'd': 0.21, 'e': 0.57}\n",
            " 122                 WASP-47                                                  {'c': 0.295, 'd': 0.01}\n",
            " 123               Wolf 1061                                        {'b': 0.15, 'c': 0.11, 'd': 0.55}\n",
            " 124                  XO-2 S                                                 {'b': 0.18, 'c': 0.1528}\n",
            " 125                  YZ Cet                                         {'b': 0.06, 'c': 0.0, 'd': 0.07}\n",
            " 126                 rho CrB                           {'b': 0.038, 'c': 0.096, 'd': 0.0, 'e': 0.126}\n",
            " 127                 tau Cet                             {'e': 0.18, 'f': 0.16, 'g': 0.06, 'h': 0.23}\n",
            " 128                 ups And                                  {'b': 0.0215, 'c': 0.2596, 'd': 0.2987}\n"
          ]
        }
      ]
    },
    {
      "cell_type": "code",
      "source": [
        "results = []\n",
        "err = 0.05\n",
        "\n",
        "for index, row in odf.iterrows():\n",
        "    host_name = row['Host Names']\n",
        "    ecc = row['eccentricity']\n",
        "\n",
        "    ratios = set()  # Use a set to avoid duplicates\n",
        "    for i in range(len(ecc)):\n",
        "        for j in range(i + 1, len(ecc)):\n",
        "            # Calculate all possible ratios with denominators from 1 to 9\n",
        "            for denominator in range(1, 10):\n",
        "                try:\n",
        "                    ratio = ecc[list(ecc.keys())[j]] / (\n",
        "                        denominator * ecc[list(ecc.keys())[i]]\n",
        "                    )\n",
        "                    # Check if the ratio is close to an integer\n",
        "                    rounded_ratio = round(ratio)\n",
        "                    if abs(ratio - rounded_ratio) <= err and (rounded_ratio != 0 and denominator != 0):\n",
        "                        # Simplify the ratio if possible\n",
        "                        gcd = abs(math.gcd(int(rounded_ratio), denominator))\n",
        "\n",
        "                        # Ensure a > b in the simplified ratio\n",
        "                        numerator = int(rounded_ratio // gcd)\n",
        "                        denominator = denominator // gcd\n",
        "                        if numerator < denominator:\n",
        "                            numerator, denominator = denominator, numerator\n",
        "\n",
        "                        simplified_ratio = f\"{numerator}:{denominator}\"\n",
        "                        ratios.add(simplified_ratio)\n",
        "                except ZeroDivisionError:\n",
        "                    pass  # Handle potential zero division errors\n",
        "\n",
        "    if ratios:\n",
        "        results.append({'No.': index + 1, 'Host Names': host_name, 'eccentricity': ecc, 'Ratios': list(ratios)})\n",
        "\n",
        "# Create a DataFrame from the results\n",
        "rdf = pd.DataFrame(results)\n",
        "\n",
        "print(rdf.to_string(index=False))"
      ],
      "metadata": {
        "colab": {
          "base_uri": "https://localhost:8080/"
        },
        "id": "rx7mSqOpBFzm",
        "outputId": "9a3ed521-3730-40a1-88ca-cdb0e1a3cde1"
      },
      "execution_count": 4,
      "outputs": [
        {
          "output_type": "stream",
          "name": "stdout",
          "text": [
            " No. Host Names                                                             eccentricity          Ratios\n",
            "   2     47 UMa                                      {'b': 0.032, 'c': 0.098, 'd': 0.16}      [5:1, 3:1]\n",
            "   4     61 Vir                                        {'b': 0.12, 'c': 0.14, 'd': 0.35}           [3:1]\n",
            "   7     DMPP-1                           {'b': 0.083, 'c': 0.057, 'd': 0.07, 'e': 0.07}           [1:1]\n",
            "  10     GJ 163                                     {'b': 0.073, 'c': 0.099, 'd': 0.373}           [5:1]\n",
            "  11     GJ 180                                        {'b': 0.07, 'c': 0.09, 'd': 0.14}           [2:1]\n",
            "  12    GJ 3138                                        {'b': 0.19, 'c': 0.11, 'd': 0.32}           [3:1]\n",
            "  13    GJ 3293                             {'b': 0.06, 'c': 0.11, 'd': 0.12, 'e': 0.21}           [2:1]\n",
            "  15     GJ 433                                        {'b': 0.04, 'c': 0.12, 'd': 0.07}           [3:1]\n",
            "  17   GJ 667 C                   {'b': 0.2, 'c': 0.02, 'e': 0.02, 'f': 0.03, 'g': 0.08}      [4:1, 1:1]\n",
            "  19     GJ 876                      {'b': 0.0324, 'c': 0.25591, 'd': 0.207, 'e': 0.055}      [2:1, 8:1]\n",
            "  20    GJ 9827                                      {'b': 0.063, 'c': 0.094, 'd': 0.13}           [2:1]\n",
            "  21   HD 10180 {'c': 0.073, 'd': 0.131, 'e': 0.051, 'f': 0.119, 'g': 0.263, 'h': 0.095}      [5:1, 2:1]\n",
            "  30  HD 153557                                     {'b': 0.065, 'c': 0.511, 'd': 0.152}      [2:1, 8:1]\n",
            "  31  HD 164922                            {'b': 0.08, 'c': 0.12, 'd': 0.12, 'e': 0.086}           [1:1]\n",
            "  34  HD 191939              {'b': 0.031, 'c': 0.034, 'd': 0.031, 'e': 0.031, 'g': 0.03}           [1:1]\n",
            "  40  HD 219134      {'b': 0.0, 'c': 0.062, 'd': 0.138, 'f': 0.148, 'g': 0.0, 'h': 0.06}           [1:1]\n",
            "  41   HD 23472                {'b': 0.072, 'c': 0.063, 'd': 0.07, 'e': 0.07, 'f': 0.07}           [1:1]\n",
            "  42   HD 27894                                     {'b': 0.047, 'c': 0.015, 'd': 0.343}           [7:1]\n",
            "  44   HD 31527                                         {'b': 0.1, 'c': 0.04, 'd': 0.24}      [6:1, 3:2]\n",
            "  45    HD 3167                              {'b': 0.0, 'c': 0.06, 'd': 0.12, 'e': 0.15}           [2:1]\n",
            "  46   HD 33142                                     {'b': 0.049, 'c': 0.081, 'd': 0.191}           [4:1]\n",
            "  47   HD 34445   {'b': 0.27, 'c': 0.036, 'd': 0.027, 'e': 0.09, 'f': 0.031, 'g': 0.032}           [1:1]\n",
            "  48   HD 37124                                      {'b': 0.054, 'c': 0.125, 'd': 0.16}           [3:1]\n",
            "  49   HD 39091                                      {'b': 0.642, 'c': 0.077, 'd': 0.22}           [3:1]\n",
            "  51   HD 40307                   {'b': 0.2, 'c': 0.06, 'd': 0.07, 'f': 0.02, 'g': 0.29}      [5:1, 4:1]\n",
            "  56   HD 96700                                      {'b': 0.138, 'c': 0.293, 'd': 0.27}           [2:1]\n",
            "  62     K2-138 {'b': 0.048, 'c': 0.045, 'd': 0.043, 'e': 0.077, 'f': 0.062, 'g': 0.059}           [1:1]\n",
            "  63      K2-19                                                    {'b': 0.2, 'c': 0.21}           [1:1]\n",
            "  64     K2-233                                   {'b': 0.079, 'c': 0.2002, 'd': 0.1999}           [1:1]\n",
            "  65     K2-266                                     {'c': 0.042, 'd': 0.047, 'e': 0.043}           [1:1]\n",
            "  68      K2-32                           {'b': 0.03, 'c': 0.049, 'd': 0.05, 'e': 0.043}           [1:1]\n",
            "  69      K2-72                             {'b': 0.11, 'c': 0.11, 'd': 0.11, 'e': 0.11}           [1:1]\n",
            "  70    KOI-142                                  {'b': 0.05561, 'c': 0.05724, 'd': 0.41}      [7:1, 1:1]\n",
            "  72  Kepler-10                                         {'b': 0.0, 'c': 0.13, 'd': 0.26}           [2:1]\n",
            "  73 Kepler-102                 {'b': 0.1, 'c': 0.094, 'd': 0.092, 'e': 0.089, 'f': 0.1}           [1:1]\n",
            "  74 Kepler-107                               {'b': 0.1, 'c': 0.08, 'd': 0.11, 'e': 0.1}           [1:1]\n",
            "  75  Kepler-11  {'b': 0.045, 'c': 0.026, 'd': 0.004, 'e': 0.012, 'f': 0.013, 'g': 0.15}      [3:1, 6:1]\n",
            "  83  Kepler-20  {'b': 0.083, 'c': 0.076, 'd': 0.082, 'e': 0.092, 'f': 0.094, 'g': 0.15}      [2:1, 1:1]\n",
            "  84 Kepler-223                          {'b': 0.078, 'c': 0.15, 'd': 0.037, 'e': 0.051}           [2:1]\n",
            "  85  Kepler-25                                    {'b': 0.0029, 'c': 0.0061, 'd': 0.13}      [9:5, 7:3]\n",
            "  86 Kepler-296                  {'b': 0.33, 'c': 0.33, 'd': 0.33, 'e': 0.33, 'f': 0.33}           [1:1]\n",
            "  87  Kepler-30                                    {'b': 0.042, 'c': 0.0111, 'd': 0.022}           [2:1]\n",
            "  89  Kepler-37                                       {'b': 0.098, 'c': 0.099, 'd': 0.1}           [1:1]\n",
            "  91 Kepler-444                   {'b': 0.16, 'c': 0.31, 'd': 0.18, 'e': 0.1, 'f': 0.29}      [3:1, 2:1]\n",
            "  94 Kepler-450                                        {'b': 0.02, 'c': 0.02, 'd': 0.14}      [7:1, 1:1]\n",
            "  97  Kepler-47                                     {'b': 0.021, 'c': 0.044, 'd': 0.024}           [2:1]\n",
            " 101  Kepler-68                           {'b': 0.09, 'c': 0.099, 'd': 0.102, 'e': 0.33}           [1:1]\n",
            " 102  Kepler-79                          {'b': 0.015, 'c': 0.03, 'd': 0.025, 'e': 0.012}           [2:1]\n",
            " 109   TOI-1136 {'b': 0.031, 'c': 0.117, 'd': 0.016, 'e': 0.057, 'f': 0.012, 'g': 0.036}           [3:1]\n",
            " 114   TOI-4010                             {'b': 0.03, 'c': 0.03, 'd': 0.07, 'e': 0.26}      [9:1, 1:1]\n",
            " 117    TOI-500                         {'b': 0.063, 'c': 0.072, 'd': 0.016, 'e': 0.073}           [1:1]\n",
            " 118    TOI-561                            {'b': 0.0, 'c': 0.03, 'd': 0.122, 'e': 0.079}      [4:1, 1:1]\n",
            " 121  V1298 Tau                             {'b': 0.29, 'c': 0.43, 'd': 0.21, 'e': 0.57}           [2:1]\n",
            " 123  Wolf 1061                                        {'b': 0.15, 'c': 0.11, 'd': 0.55}           [5:1]\n",
            " 127    tau Cet                             {'e': 0.18, 'f': 0.16, 'g': 0.06, 'h': 0.23}           [4:1]\n",
            " 128    ups And                                  {'b': 0.0215, 'c': 0.2596, 'd': 0.2987} [7:2, 3:1, 4:3]\n"
          ]
        }
      ]
    },
    {
      "cell_type": "code",
      "source": [
        "# Extract all ratios from the DataFrame and evaluate them\n",
        "all_ratios = []\n",
        "for ratios in rdf['Ratios']:\n",
        "    for ratio in ratios:\n",
        "        numerator, denominator = map(int, ratio.split(':'))\n",
        "        ratio_value = numerator / denominator\n",
        "        if ratio_value <= 20:  # Filter out values bigger than 20\n",
        "            all_ratios.append(ratio_value)\n",
        "\n",
        "ideal_bins = 10\n",
        "\n",
        "# Plot the histogram with the ideal bin number\n",
        "plt.figure(figsize=(10, 6))\n",
        "plt.hist(all_ratios, bins=ideal_bins, edgecolor='black')\n",
        "plt.xlabel('Ratio')\n",
        "plt.ylabel('Frequency')\n",
        "plt.title('Histogram of Ratios')\n",
        "plt.grid(True)\n",
        "plt.show()"
      ],
      "metadata": {
        "colab": {
          "base_uri": "https://localhost:8080/",
          "height": 564
        },
        "id": "y3BJcT-pBavl",
        "outputId": "6c222061-fa88-409f-9fe7-47662da1ecdd"
      },
      "execution_count": 7,
      "outputs": [
        {
          "output_type": "display_data",
          "data": {
            "text/plain": [
              "<Figure size 1000x600 with 1 Axes>"
            ],
            "image/png": "[encoded data removed]"
          },
          "metadata": {}
        }
      ]
    },
    {
      "cell_type": "code",
      "source": [
        "# Calculate the histogram\n",
        "hist_values, bin_edges = np.histogram(all_ratios, bins=ideal_bins)\n",
        "\n",
        "# Calculate the centers of the histogram bins\n",
        "bin_centers = (bin_edges[:-1] + bin_edges[1:]) / 2\n",
        "\n",
        "# Calculate the standard deviation associated with each bin\n",
        "bin_std_dev = np.sqrt(hist_values)\n",
        "\n",
        "# Save data to a text file (modify filename as needed)\n",
        "filename = \"ecc.txt\"\n",
        "with open(filename, 'w') as f:\n",
        "  # Save header row (optional)\n",
        "  f.write(\"Bin Centers, Frequencies\\n\")\n",
        "\n",
        "  # Save data in comma-separated format (CSV)\n",
        "  for center, value in zip(bin_centers, hist_values):\n",
        "    f.write(f\"{center:.4f},{value:.0f}\\n\")\n",
        "\n",
        "print(f\"Histogram data saved to: {filename}\")\n",
        "\n",
        "# Plot the point plot with vertical error bars\n",
        "plt.figure(figsize=(10, 6))\n",
        "plt.errorbar(bin_centers, hist_values, yerr=bin_std_dev, fmt='o', markersize=5, capsize=5)\n",
        "plt.xlabel('Ratio')\n",
        "plt.ylabel('Frequency')\n",
        "plt.title('Point Plot of Ratios with Vertical Error Bars')\n",
        "plt.grid(True)\n",
        "plt.show()"
      ],
      "metadata": {
        "colab": {
          "base_uri": "https://localhost:8080/",
          "height": 582
        },
        "id": "OUuwy8u8Bjfk",
        "outputId": "3a0a1778-7d25-4dee-af67-df5034b60309"
      },
      "execution_count": 8,
      "outputs": [
        {
          "output_type": "stream",
          "name": "stdout",
          "text": [
            "Histogram data saved to: ecc.txt\n"
          ]
        },
        {
          "output_type": "display_data",
          "data": {
            "text/plain": [
              "<Figure size 1000x600 with 1 Axes>"
            ],
            "image/png": "[encoded data removed]"
          },
          "metadata": {}
        }
      ]
    }
  ]
}